{
 "cells": [
  {
   "cell_type": "markdown",
   "metadata": {
    "tags": []
   },
   "source": [
    "# 생육 환경 최적화 경진대회\n",
    "\n",
    "## 개발 환경\n",
    "- OS: Windows 10\n",
    "- CPU: i9-10900K\n",
    "- GPU: RTX3070\n",
    "- Memory: 32GB\n",
    "\n",
    "## 라이브러리 버전\n",
    "- torch == 1.7.1+cu110\n",
    "- torchvision == 0.8.2+cu110\n",
    "- timm == 0.5.4\n",
    "- albumentations == 1.1.0\n",
    "- numpy==1.19.5   \n",
    "- pandas==1.3.2\n",
    "- opencv-python==4.2.0  \n",
    "\n",
    "\n",
    "## 주요 전략\n",
    "- 하루 뒤의 무게 예측값이 불안정한 것으로 판단하여, 청경채 사진의 현재 무게를 예측한 모델(resnet50, seresnet50)과 하루 뒤의 무게를 예측한 모델(resnet50)의 결과를 앙상블(평균)하여 최종 제출했습니다.\n",
    "- 각 모델은 5fold 진행했습니다.\n",
    "- 이미지 모델은 Vit, efficientnet, Resnext 등 다양한 모델을 시도했으나 테스트 상에서 불이익이 있었습니다. \n",
    "- 메타 데이터는 검증셋에서는 효과가 있었으나, 테스트셋에서 과적합되는 경향이 있어서 사용하지 않았습니다.\n",
    "\n",
    "## 전처리\n",
    "- CASE45-17번은 사람 손이 노출되어 훈련 데이터에서 제외하였습니다.\n",
    "- 타겟 값은 로그 변환하였습니다.\n",
    "- CASE73번을 제외하고, 각 CASE는 연속적인 생육 과정으로 가정하고 현재 무게에 대한 레이블을 새로 만들었습니다. \n",
    "    - CASE73은 0-9, 10-13, 14-34를 각각의 생육 과정으로 가정하였습니다.\n",
    "\n",
    "## 실행 방법\n",
    "### 데이터 경로\n",
    "- 데이터 경로: 대회에서 받은 train, test 폴더 (./train, ./test)\n",
    "- 제공 받은 제출 파일: ./sample_submission.csv\n",
    "- 모델 경로: ./saved\n",
    "- 제출 파일 경로: ./submission\n",
    "\n",
    "### 노트북 실행 순서\n",
    "- 아래 순서대로 노트북 실행\n",
    "1. 학습 및 테스트용 데이터셋 생성: make_dataset.ipynb\n",
    "    - 5개의 피클 파일 생성됨\n",
    "2. 각 모델 및 제출 파일 생성: res50_train_future_weight.ipynb, res50_train_current_weight.ipynb, seres50_train_current_weight.ipynb\n",
    "3. 3개 모델의 제출 파일 앙상블: ensemble.ipynb\n",
    "\n",
    "## 추가 사항\n",
    "- 코드는 전반적으로 데이콘 베이스라인 코드와, 캐주얼AI드래곤님의 코드(https://github.com/siwooyong/LG-AI-Challenge-for-Plant-Classification)를 많이 참고하였습니다. 감사합니다."
   ]
  },
  {
   "cell_type": "code",
   "execution_count": null,
   "metadata": {},
   "outputs": [],
   "source": []
  }
 ],
 "metadata": {
  "interpreter": {
   "hash": "d4d1e4263499bec80672ea0156c357c1ee493ec2b1c70f0acce89fc37c4a6abe"
  },
  "kernelspec": {
   "display_name": "Python 3",
   "language": "python",
   "name": "python3"
  },
  "language_info": {
   "codemirror_mode": {
    "name": "ipython",
    "version": 3
   },
   "file_extension": ".py",
   "mimetype": "text/x-python",
   "name": "python",
   "nbconvert_exporter": "python",
   "pygments_lexer": "ipython3",
   "version": "3.7.9"
  }
 },
 "nbformat": 4,
 "nbformat_minor": 4
}
