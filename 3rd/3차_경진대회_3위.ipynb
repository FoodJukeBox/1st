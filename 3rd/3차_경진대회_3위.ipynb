{
 "cells": [
  {
   "cell_type": "markdown",
   "metadata": {},
   "source": [
    "청경채 성장 예측 AI 경진대회"
   ]
  },
  {
   "cell_type": "markdown",
   "metadata": {},
   "source": [
    "- 개발환경\n",
    "\n",
    "Window, Local cpu"
   ]
  },
  {
   "cell_type": "markdown",
   "metadata": {},
   "source": [
    "- 라이브러리 버전"
   ]
  },
  {
   "cell_type": "code",
   "execution_count": 9,
   "metadata": {},
   "outputs": [
    {
     "name": "stdout",
     "output_type": "stream",
     "text": [
      "python version : 3.9.2 (tags/v3.9.2:1a79785, Feb 19 2021, 13:44:55) [MSC v.1928 64 bit (AMD64)]\n",
      "pandas version : 1.4.0\n"
     ]
    }
   ],
   "source": [
    "import sys\n",
    "import pandas as pd\n",
    "import matplotlib.pyplot as plt\n",
    "\n",
    "print(f'python version : {sys.version}')\n",
    "print(f'pandas version : {pd.__version__}')"
   ]
  },
  {
   "cell_type": "markdown",
   "metadata": {},
   "source": [
    "- 데이터 경로\n",
    "\n",
    "train target : \n",
    "../data/open/train_target/CASE_01.csv ...\n",
    "\n",
    "submission : \n",
    "../submission/TEST_01.csv ...\n",
    "(submission 예시 csv 파일입니다.)"
   ]
  },
  {
   "cell_type": "markdown",
   "metadata": {},
   "source": [
    "\n",
    "- 훈련 및 추론 코드\n",
    "\n",
    "submission_code.ipynb"
   ]
  },
  {
   "cell_type": "markdown",
   "metadata": {},
   "source": [
    "- 코드 간단 설명\n",
    "\n",
    "1. train_target csv 파일에서 outlier로서 작용할 수 있는 데이터를 scaling했습니다.\n",
    "2. scaling된 data로 평균값을 낸 후, 이 평균값을 그대로 모든 테스트 케이스에 대해 동일하게 적용했습니다."
   ]
  },
  {
   "cell_type": "code",
   "execution_count": 10,
   "metadata": {
    "pycharm": {
     "is_executing": true,
     "name": "#%%\n"
    }
   },
   "outputs": [],
   "source": [
    "import pandas as pd\n",
    "import os"
   ]
  },
  {
   "cell_type": "code",
   "execution_count": 11,
   "metadata": {
    "pycharm": {
     "name": "#%%\n"
    }
   },
   "outputs": [],
   "source": [
    "# warning -> off\n",
    "pd.set_option('mode.chained_assignment',  None)\n",
    "\n",
    "# csv file loading\n",
    "def loadCsv(csv_dir, name):\n",
    "    dir = os.path.join(csv_dir, name)\n",
    "    file_names = os.listdir(dir)\n",
    "    dfs = []\n",
    "    \n",
    "    for file_name in file_names:\n",
    "        df = pd.read_csv(os.path.join(dir, file_name))\n",
    "        dfs.append(df)    \n",
    "    return dfs\n",
    "\n",
    "# scaling loaded data\n",
    "# scale if rate is over threshold (threshold=2)\n",
    "def loadPreprocessedTarget(csv_dir, name, split_per_day=True, threshold=2):\n",
    "    targets = loadCsv(csv_dir, name)\n",
    "    \n",
    "    if split_per_day:\n",
    "        splitted = []\n",
    "        for target in targets:\n",
    "            for rate in target['rate']:\n",
    "                splitted.append(rate)\n",
    "        targets = splitted\n",
    "    \n",
    "    if split_per_day:\n",
    "        for idx, target in enumerate(targets):\n",
    "            if target>10:\n",
    "                targets[idx] /=100\n",
    "            elif target>threshold:\n",
    "                targets[idx] /= 10\n",
    "    else:\n",
    "        for idx, target in enumerate(targets):\n",
    "            for i in range(len(target)):\n",
    "                if target['rate'].iloc[i]>10:\n",
    "                    target['rate'].iloc[i] /=100\n",
    "                elif target['rate'].iloc[i]>threshold:\n",
    "                    target['rate'].iloc[i] /= 10\n",
    "    return targets\n",
    "\n",
    "# load scaled target data\n",
    "\n",
    "csv_dir = \"C://Users/rlawo/Desktop/Dacon/brassica_prediction/data/open\"\n",
    "targets = loadPreprocessedTarget(csv_dir, name=\"train_target\", split_per_day=False, threshold=5)"
   ]
  },
  {
   "cell_type": "code",
   "execution_count": 12,
   "metadata": {
    "pycharm": {
     "name": "#%%\n"
    }
   },
   "outputs": [],
   "source": [
    "max_len = max([len(target) for target in targets])\n",
    "total_sum = [0 for i in range(max_len)]\n",
    "count = [0 for i in range(max_len)]\n",
    "\n",
    "for target in targets:\n",
    "    for idx, rate in enumerate(target['rate']):\n",
    "        total_sum[idx] += rate\n",
    "        count[idx] += 1\n",
    "\n",
    "# get mean of all target data\n",
    "mean = [total_sum[i]/count[i] for i in range(max_len)]"
   ]
  },
  {
   "cell_type": "code",
   "execution_count": 13,
   "metadata": {
    "pycharm": {
     "name": "#%%\n"
    }
   },
   "outputs": [],
   "source": [
    "# load submission csv files\n",
    "\n",
    "\n",
    "csv_dir = \"C://Users/rlawo/Desktop/Dacon/brassica_prediction/submission\"\n",
    "file_names = os.listdir(csv_dir)\n",
    "\n",
    "remove_lst = []\n",
    "for file_name in file_names:\n",
    "    if file_name[-4:]=='.zip':\n",
    "        remove_lst.append(file_name)\n",
    "for r in remove_lst:\n",
    "    file_names.remove(r)  \n",
    "\n",
    "submissions = []\n",
    "\n",
    "for file_name in file_names:\n",
    "    submission = pd.read_csv(os.path.join(csv_dir, file_name))\n",
    "    submissions.append(submission)"
   ]
  },
  {
   "cell_type": "code",
   "execution_count": 14,
   "metadata": {
    "pycharm": {
     "name": "#%%\n"
    }
   },
   "outputs": [],
   "source": [
    "# replace submission csv 'rate' column to mean list\n",
    "\n",
    "for n, submission in enumerate(submissions):\n",
    "    if n==3:\n",
    "        submission['rate'] = mean[3:len(submission)+3]\n",
    "    submission['rate'] = mean[:len(submission)]"
   ]
  },
  {
   "cell_type": "code",
   "execution_count": 15,
   "metadata": {
    "pycharm": {
     "name": "#%%\n"
    }
   },
   "outputs": [],
   "source": [
    "save_dir = \"C://Users/rlawo/Desktop/Dacon/brassica_prediction/submission\"\n",
    "for idx, submission in enumerate(submissions):\n",
    "    submission.to_csv(os.path.join(save_dir, \"TEST_{0:02d}.csv\".format(idx+1)), index=False)"
   ]
  },
  {
   "cell_type": "code",
   "execution_count": null,
   "metadata": {},
   "outputs": [],
   "source": []
  }
 ],
 "metadata": {
  "kernelspec": {
   "display_name": "Python 3.9.2 64-bit",
   "language": "python",
   "name": "python3"
  },
  "language_info": {
   "codemirror_mode": {
    "name": "ipython",
    "version": 3
   },
   "file_extension": ".py",
   "mimetype": "text/x-python",
   "name": "python",
   "nbconvert_exporter": "python",
   "pygments_lexer": "ipython3",
   "version": "3.9.2"
  },
  "orig_nbformat": 4,
  "vscode": {
   "interpreter": {
    "hash": "a3ed41954a06e4e0f98917753a62971cca293100b187f3acd27413755c60deb2"
   }
  }
 },
 "nbformat": 4,
 "nbformat_minor": 2
}
